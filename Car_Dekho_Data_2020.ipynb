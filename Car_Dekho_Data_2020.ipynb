{
  "nbformat": 4,
  "nbformat_minor": 0,
  "metadata": {
    "colab": {
      "name": "Car Dekho Data 2020.ipynb",
      "provenance": [],
      "collapsed_sections": [],
      "include_colab_link": true
    },
    "kernelspec": {
      "name": "python3",
      "display_name": "Python 3"
    },
    "language_info": {
      "name": "python"
    }
  },
  "cells": [
    {
      "cell_type": "markdown",
      "metadata": {
        "id": "view-in-github",
        "colab_type": "text"
      },
      "source": [
        "<a href=\"https://colab.research.google.com/github/kratikv2/kratikv2/blob/main/Car_Dekho_Data_2020.ipynb\" target=\"_parent\"><img src=\"https://colab.research.google.com/assets/colab-badge.svg\" alt=\"Open In Colab\"/></a>"
      ]
    },
    {
      "cell_type": "code",
      "metadata": {
        "colab": {
          "base_uri": "https://localhost:8080/"
        },
        "id": "voeZMnPcXmYh",
        "outputId": "b1f7e9db-a5df-412c-95d6-14dcc35ac1d0"
      },
      "source": [
        "\n",
        "from google.colab import drive\n",
        "drive.mount('/content/gdrive/', force_remount=True)\n"
      ],
      "execution_count": 1,
      "outputs": [
        {
          "output_type": "stream",
          "name": "stdout",
          "text": [
            "Mounted at /content/gdrive/\n"
          ]
        }
      ]
    },
    {
      "cell_type": "code",
      "metadata": {
        "colab": {
          "base_uri": "https://localhost:8080/"
        },
        "id": "MKBkzLv_YTAK",
        "outputId": "e7f04ac6-d966-4e55-a4a8-763ed2037def"
      },
      "source": [
        "cd gdrive/MyDrive/"
      ],
      "execution_count": 2,
      "outputs": [
        {
          "output_type": "stream",
          "name": "stdout",
          "text": [
            "/content/gdrive/MyDrive\n"
          ]
        }
      ]
    },
    {
      "cell_type": "code",
      "metadata": {
        "id": "RFInPnB5VEGR"
      },
      "source": [
        "import pandas as pd\n",
        "\n",
        "df = pd.read_csv('Car Dekho Assignment data.csv')"
      ],
      "execution_count": 3,
      "outputs": []
    },
    {
      "cell_type": "code",
      "metadata": {
        "id": "IqgCzyf19mWm"
      },
      "source": [
        "# df = df.drop(df[(df['Company Name'] != \"Maruti\")].index)"
      ],
      "execution_count": 4,
      "outputs": []
    },
    {
      "cell_type": "code",
      "metadata": {
        "colab": {
          "base_uri": "https://localhost:8080/",
          "height": 292
        },
        "id": "3UsYYAzlXGSn",
        "outputId": "11d14f80-4227-4cba-b3e2-7336dcea03d9"
      },
      "source": [
        "df.head()"
      ],
      "execution_count": 5,
      "outputs": [
        {
          "output_type": "execute_result",
          "data": {
            "text/html": [
              "<div>\n",
              "<style scoped>\n",
              "    .dataframe tbody tr th:only-of-type {\n",
              "        vertical-align: middle;\n",
              "    }\n",
              "\n",
              "    .dataframe tbody tr th {\n",
              "        vertical-align: top;\n",
              "    }\n",
              "\n",
              "    .dataframe thead th {\n",
              "        text-align: right;\n",
              "    }\n",
              "</style>\n",
              "<table border=\"1\" class=\"dataframe\">\n",
              "  <thead>\n",
              "    <tr style=\"text-align: right;\">\n",
              "      <th></th>\n",
              "      <th>name</th>\n",
              "      <th>year</th>\n",
              "      <th>selling_price</th>\n",
              "      <th>km_driven</th>\n",
              "      <th>fuel</th>\n",
              "      <th>seller_type</th>\n",
              "      <th>transmission</th>\n",
              "      <th>owner</th>\n",
              "      <th>Company Name</th>\n",
              "      <th>Product Lifeline</th>\n",
              "      <th>Price Range</th>\n",
              "      <th>KM Range</th>\n",
              "    </tr>\n",
              "  </thead>\n",
              "  <tbody>\n",
              "    <tr>\n",
              "      <th>0</th>\n",
              "      <td>Maruti 800 AC</td>\n",
              "      <td>2007</td>\n",
              "      <td>60000</td>\n",
              "      <td>70000</td>\n",
              "      <td>Petrol</td>\n",
              "      <td>Individual</td>\n",
              "      <td>Manual</td>\n",
              "      <td>First Owner</td>\n",
              "      <td>Maruti</td>\n",
              "      <td>13</td>\n",
              "      <td>Inexpensive</td>\n",
              "      <td>Moderate</td>\n",
              "    </tr>\n",
              "    <tr>\n",
              "      <th>1</th>\n",
              "      <td>Maruti Wagon R LXI Minor</td>\n",
              "      <td>2007</td>\n",
              "      <td>135000</td>\n",
              "      <td>50000</td>\n",
              "      <td>Petrol</td>\n",
              "      <td>Individual</td>\n",
              "      <td>Manual</td>\n",
              "      <td>First Owner</td>\n",
              "      <td>Maruti</td>\n",
              "      <td>13</td>\n",
              "      <td>Affordable</td>\n",
              "      <td>Moderate</td>\n",
              "    </tr>\n",
              "    <tr>\n",
              "      <th>2</th>\n",
              "      <td>Hyundai Verna 1.6 SX</td>\n",
              "      <td>2012</td>\n",
              "      <td>600000</td>\n",
              "      <td>100000</td>\n",
              "      <td>Diesel</td>\n",
              "      <td>Individual</td>\n",
              "      <td>Manual</td>\n",
              "      <td>First Owner</td>\n",
              "      <td>Hyundai</td>\n",
              "      <td>8</td>\n",
              "      <td>Expensive</td>\n",
              "      <td>Highly</td>\n",
              "    </tr>\n",
              "    <tr>\n",
              "      <th>3</th>\n",
              "      <td>Datsun RediGO T Option</td>\n",
              "      <td>2017</td>\n",
              "      <td>250000</td>\n",
              "      <td>46000</td>\n",
              "      <td>Petrol</td>\n",
              "      <td>Individual</td>\n",
              "      <td>Manual</td>\n",
              "      <td>First Owner</td>\n",
              "      <td>Datsun</td>\n",
              "      <td>3</td>\n",
              "      <td>Affordable</td>\n",
              "      <td>Less</td>\n",
              "    </tr>\n",
              "    <tr>\n",
              "      <th>4</th>\n",
              "      <td>Honda Amaze VX i-DTEC</td>\n",
              "      <td>2014</td>\n",
              "      <td>450000</td>\n",
              "      <td>141000</td>\n",
              "      <td>Diesel</td>\n",
              "      <td>Individual</td>\n",
              "      <td>Manual</td>\n",
              "      <td>Second Owner</td>\n",
              "      <td>Honda</td>\n",
              "      <td>6</td>\n",
              "      <td>Affordable</td>\n",
              "      <td>Highly</td>\n",
              "    </tr>\n",
              "  </tbody>\n",
              "</table>\n",
              "</div>"
            ],
            "text/plain": [
              "                       name  year  ...  Price Range  KM Range\n",
              "0             Maruti 800 AC  2007  ...  Inexpensive  Moderate\n",
              "1  Maruti Wagon R LXI Minor  2007  ...   Affordable  Moderate\n",
              "2      Hyundai Verna 1.6 SX  2012  ...    Expensive    Highly\n",
              "3    Datsun RediGO T Option  2017  ...   Affordable      Less\n",
              "4     Honda Amaze VX i-DTEC  2014  ...   Affordable    Highly\n",
              "\n",
              "[5 rows x 12 columns]"
            ]
          },
          "metadata": {},
          "execution_count": 5
        }
      ]
    },
    {
      "cell_type": "code",
      "metadata": {
        "colab": {
          "base_uri": "https://localhost:8080/",
          "height": 309
        },
        "id": "gkhaySqNYvr8",
        "outputId": "8a810d3c-a696-4b4d-a8b0-923a30766af8"
      },
      "source": [
        "df.tail()"
      ],
      "execution_count": 6,
      "outputs": [
        {
          "output_type": "execute_result",
          "data": {
            "text/html": [
              "<div>\n",
              "<style scoped>\n",
              "    .dataframe tbody tr th:only-of-type {\n",
              "        vertical-align: middle;\n",
              "    }\n",
              "\n",
              "    .dataframe tbody tr th {\n",
              "        vertical-align: top;\n",
              "    }\n",
              "\n",
              "    .dataframe thead th {\n",
              "        text-align: right;\n",
              "    }\n",
              "</style>\n",
              "<table border=\"1\" class=\"dataframe\">\n",
              "  <thead>\n",
              "    <tr style=\"text-align: right;\">\n",
              "      <th></th>\n",
              "      <th>name</th>\n",
              "      <th>year</th>\n",
              "      <th>selling_price</th>\n",
              "      <th>km_driven</th>\n",
              "      <th>fuel</th>\n",
              "      <th>seller_type</th>\n",
              "      <th>transmission</th>\n",
              "      <th>owner</th>\n",
              "      <th>Company Name</th>\n",
              "      <th>Product Lifeline</th>\n",
              "      <th>Price Range</th>\n",
              "      <th>KM Range</th>\n",
              "    </tr>\n",
              "  </thead>\n",
              "  <tbody>\n",
              "    <tr>\n",
              "      <th>3572</th>\n",
              "      <td>Hyundai i20 Magna 1.4 CRDi (Diesel)</td>\n",
              "      <td>2014</td>\n",
              "      <td>409999</td>\n",
              "      <td>80000</td>\n",
              "      <td>Diesel</td>\n",
              "      <td>Individual</td>\n",
              "      <td>Manual</td>\n",
              "      <td>Second Owner</td>\n",
              "      <td>Hyundai</td>\n",
              "      <td>6</td>\n",
              "      <td>Affordable</td>\n",
              "      <td>Moderate</td>\n",
              "    </tr>\n",
              "    <tr>\n",
              "      <th>3573</th>\n",
              "      <td>Hyundai i20 Magna 1.4 CRDi</td>\n",
              "      <td>2014</td>\n",
              "      <td>409999</td>\n",
              "      <td>80000</td>\n",
              "      <td>Diesel</td>\n",
              "      <td>Individual</td>\n",
              "      <td>Manual</td>\n",
              "      <td>Second Owner</td>\n",
              "      <td>Hyundai</td>\n",
              "      <td>6</td>\n",
              "      <td>Affordable</td>\n",
              "      <td>Moderate</td>\n",
              "    </tr>\n",
              "    <tr>\n",
              "      <th>3574</th>\n",
              "      <td>Maruti 800 AC BSIII</td>\n",
              "      <td>2009</td>\n",
              "      <td>110000</td>\n",
              "      <td>83000</td>\n",
              "      <td>Petrol</td>\n",
              "      <td>Individual</td>\n",
              "      <td>Manual</td>\n",
              "      <td>Second Owner</td>\n",
              "      <td>Maruti</td>\n",
              "      <td>11</td>\n",
              "      <td>Affordable</td>\n",
              "      <td>Moderate</td>\n",
              "    </tr>\n",
              "    <tr>\n",
              "      <th>3575</th>\n",
              "      <td>Hyundai Creta 1.6 CRDi SX Option</td>\n",
              "      <td>2016</td>\n",
              "      <td>865000</td>\n",
              "      <td>90000</td>\n",
              "      <td>Diesel</td>\n",
              "      <td>Individual</td>\n",
              "      <td>Manual</td>\n",
              "      <td>First Owner</td>\n",
              "      <td>Hyundai</td>\n",
              "      <td>4</td>\n",
              "      <td>Expensive</td>\n",
              "      <td>Moderate</td>\n",
              "    </tr>\n",
              "    <tr>\n",
              "      <th>3576</th>\n",
              "      <td>Renault KWID RXT</td>\n",
              "      <td>2016</td>\n",
              "      <td>225000</td>\n",
              "      <td>40000</td>\n",
              "      <td>Petrol</td>\n",
              "      <td>Individual</td>\n",
              "      <td>Manual</td>\n",
              "      <td>First Owner</td>\n",
              "      <td>Renault</td>\n",
              "      <td>4</td>\n",
              "      <td>Affordable</td>\n",
              "      <td>Less</td>\n",
              "    </tr>\n",
              "  </tbody>\n",
              "</table>\n",
              "</div>"
            ],
            "text/plain": [
              "                                     name  year  ...  Price Range  KM Range\n",
              "3572  Hyundai i20 Magna 1.4 CRDi (Diesel)  2014  ...   Affordable  Moderate\n",
              "3573           Hyundai i20 Magna 1.4 CRDi  2014  ...   Affordable  Moderate\n",
              "3574                  Maruti 800 AC BSIII  2009  ...   Affordable  Moderate\n",
              "3575     Hyundai Creta 1.6 CRDi SX Option  2016  ...    Expensive  Moderate\n",
              "3576                     Renault KWID RXT  2016  ...   Affordable      Less\n",
              "\n",
              "[5 rows x 12 columns]"
            ]
          },
          "metadata": {},
          "execution_count": 6
        }
      ]
    },
    {
      "cell_type": "code",
      "metadata": {
        "colab": {
          "base_uri": "https://localhost:8080/"
        },
        "id": "pw3M3q4kefes",
        "outputId": "65030302-1e61-4194-858b-06b82d8a29e8"
      },
      "source": [
        "import numpy as np\n",
        "print (df.fuel.sort_values().unique())\n",
        "print (df.seller_type.sort_values().unique())\n",
        "print (df.transmission.sort_values().unique())\n",
        "print (df.owner.sort_values().unique())\n",
        "print (df['Company Name'].sort_values().unique())\n",
        "print (df['Product Lifeline'].sort_values().unique())\n",
        "print (df['KM Range'].sort_values().unique())\n",
        "print (df['Price Range'].sort_values().unique())"
      ],
      "execution_count": 7,
      "outputs": [
        {
          "output_type": "stream",
          "name": "stdout",
          "text": [
            "['CNG' 'Diesel' 'Electric' 'LPG' 'Petrol']\n",
            "['Dealer' 'Individual' 'Trustmark Dealer']\n",
            "['Automatic' 'Manual']\n",
            "['First Owner' 'Fourth & Above Owner' 'Second Owner' 'Test Drive Car'\n",
            " 'Third Owner']\n",
            "['Ambassador' 'Audi' 'BMW' 'Chevrolet' 'Daewoo' 'Datsun' 'Fiat' 'Force'\n",
            " 'Ford' 'Honda' 'Hyundai' 'Isuzu' 'Jaguar' 'Jeep' 'Kia' 'Land' 'MG'\n",
            " 'Mahindra' 'Maruti' 'Mercedes-Benz' 'Mitsubishi' 'Nissan' 'OpelCorsa'\n",
            " 'Renault' 'Skoda' 'Tata' 'Toyota' 'Volkswagen' 'Volvo']\n",
            "[ 0  1  2  3  4  5  6  7  8  9 10 11 12 13 14 15 16 17 18 19 20 21 22 23\n",
            " 24 25 28]\n",
            "['Extreme' 'Highly' 'Less' 'Moderate' 'New']\n",
            "['Affordable' 'Cheap' 'Deluxe' 'Expensive' 'Inexpensive' 'Luxurious']\n"
          ]
        }
      ]
    },
    {
      "cell_type": "markdown",
      "metadata": {
        "id": "uT1rmqVOAW7H"
      },
      "source": [
        "## **MODEL PREPARATION**"
      ]
    },
    {
      "cell_type": "markdown",
      "metadata": {
        "id": "duPQjw96ZWyi"
      },
      "source": [
        "***Encoding Features***\n",
        "\n",
        "Scikit-learn provides LabelEncoder library for encoding labels with a value between 0 and one less than the number of discrete classes."
      ]
    },
    {
      "cell_type": "code",
      "metadata": {
        "id": "OW24KN1kZjT4"
      },
      "source": [
        "from sklearn import preprocessing\n",
        "#creating labelEncoder\n",
        "le = preprocessing.LabelEncoder()\n",
        "testingvariables= pd.DataFrame()\n",
        "# Converting string labels into numbers.\n",
        "fuel_encoded=le.fit_transform(df['fuel']) #Transforming attributes into numeric values\n",
        "testingvariables['fule']=le.transform(['Petrol']) \n",
        "\n",
        "seller_type_encoded=le.fit_transform(df['seller_type'])\n",
        "testingvariables['seller_type']=le.transform(['Individual'])\n",
        "\n",
        "transmission_encoded=le.fit_transform(df['transmission'])\n",
        "testingvariables['transmission']=le.transform(['Manual'])\n",
        "\n",
        "owner_encoded=le.fit_transform(df['owner'])\n",
        "testingvariables['owner']=le.transform(['First Owner'])\n",
        "\n",
        "CompanyName_encoded=le.fit_transform(df['Company Name'])\n",
        "testingvariables['CompanyName']=le.transform(['Maruti'])\n",
        "\n",
        "ProductLifeline_encoded=le.fit_transform(df['Product Lifeline'])\n",
        "testingvariables['ProductLifeline']=le.transform(['4'])\n",
        "\n",
        "KMRange_encoded=le.fit_transform(df['KM Range'])\n",
        "testingvariables['KMRange']=le.transform(['Moderate'])\n",
        "\n",
        "PriceRange_encoded=le.fit_transform(df['Price Range'])\n"
      ],
      "execution_count": 8,
      "outputs": []
    },
    {
      "cell_type": "code",
      "metadata": {
        "colab": {
          "base_uri": "https://localhost:8080/",
          "height": 81
        },
        "id": "d5SdGCnCfL4K",
        "outputId": "00d5c998-5ad4-45ea-b0ae-2713955c1ac5"
      },
      "source": [
        "testingvariables.head()\n"
      ],
      "execution_count": 9,
      "outputs": [
        {
          "output_type": "execute_result",
          "data": {
            "text/html": [
              "<div>\n",
              "<style scoped>\n",
              "    .dataframe tbody tr th:only-of-type {\n",
              "        vertical-align: middle;\n",
              "    }\n",
              "\n",
              "    .dataframe tbody tr th {\n",
              "        vertical-align: top;\n",
              "    }\n",
              "\n",
              "    .dataframe thead th {\n",
              "        text-align: right;\n",
              "    }\n",
              "</style>\n",
              "<table border=\"1\" class=\"dataframe\">\n",
              "  <thead>\n",
              "    <tr style=\"text-align: right;\">\n",
              "      <th></th>\n",
              "      <th>fule</th>\n",
              "      <th>seller_type</th>\n",
              "      <th>transmission</th>\n",
              "      <th>owner</th>\n",
              "      <th>CompanyName</th>\n",
              "      <th>ProductLifeline</th>\n",
              "      <th>KMRange</th>\n",
              "    </tr>\n",
              "  </thead>\n",
              "  <tbody>\n",
              "    <tr>\n",
              "      <th>0</th>\n",
              "      <td>4</td>\n",
              "      <td>1</td>\n",
              "      <td>1</td>\n",
              "      <td>0</td>\n",
              "      <td>18</td>\n",
              "      <td>27</td>\n",
              "      <td>3</td>\n",
              "    </tr>\n",
              "  </tbody>\n",
              "</table>\n",
              "</div>"
            ],
            "text/plain": [
              "   fule  seller_type  transmission  ...  CompanyName  ProductLifeline  KMRange\n",
              "0     4            1             1  ...           18               27        3\n",
              "\n",
              "[1 rows x 7 columns]"
            ]
          },
          "metadata": {},
          "execution_count": 9
        }
      ]
    },
    {
      "cell_type": "code",
      "metadata": {
        "id": "qLUSziPucP_A"
      },
      "source": [
        "Independentvariables= pd.DataFrame()\n",
        "Independentvariables['fule']=fuel_encoded\n",
        "Independentvariables['seller_type']=seller_type_encoded\n",
        "Independentvariables['transmission']=transmission_encoded\n",
        "Independentvariables['owner']=owner_encoded\n",
        "Independentvariables['CompanyName']=CompanyName_encoded\n",
        "Independentvariables['ProductLifeline']=ProductLifeline_encoded\n",
        "Independentvariables['KMRange']=KMRange_encoded"
      ],
      "execution_count": 10,
      "outputs": []
    },
    {
      "cell_type": "code",
      "metadata": {
        "colab": {
          "base_uri": "https://localhost:8080/"
        },
        "id": "XDcka5jjcFXN",
        "outputId": "021c250e-b724-4abe-9fb8-458fd79c8772"
      },
      "source": [
        "#Import Gaussian Naive Bayes model\n",
        "from sklearn.naive_bayes import GaussianNB\n",
        "\n",
        "#Create a Gaussian Classifier\n",
        "model = GaussianNB()\n",
        "\n",
        "# Train the model using the training sets\n",
        "model.fit(Independentvariables,PriceRange_encoded)\n",
        "\n"
      ],
      "execution_count": 11,
      "outputs": [
        {
          "output_type": "execute_result",
          "data": {
            "text/plain": [
              "GaussianNB(priors=None, var_smoothing=1e-09)"
            ]
          },
          "metadata": {},
          "execution_count": 11
        }
      ]
    },
    {
      "cell_type": "code",
      "metadata": {
        "id": "EFgr1s-WikVG"
      },
      "source": [
        "PriceRange=np.array(['Affordable', 'Cheap', 'Deluxe', 'Expensive', 'Inexpensive','Luxurious'])"
      ],
      "execution_count": 12,
      "outputs": []
    },
    {
      "cell_type": "code",
      "metadata": {
        "colab": {
          "base_uri": "https://localhost:8080/"
        },
        "id": "vGUuihreeA70",
        "outputId": "d24339fd-4ff5-48e5-b0c9-ded4bdc5c796"
      },
      "source": [
        "#Predict Output\n",
        "predicted= model.predict(testingvariables)\n",
        "print (\"Car Prdictive Selling Will be lie in Range :\", PriceRange[predicted])\n"
      ],
      "execution_count": 13,
      "outputs": [
        {
          "output_type": "stream",
          "name": "stdout",
          "text": [
            "Car Prdictive Selling Will be lie in Range : ['Cheap']\n"
          ]
        }
      ]
    },
    {
      "cell_type": "markdown",
      "metadata": {
        "id": "j1Bxjrwq_-Aw"
      },
      "source": [
        "## **MODEL EVALUATION**"
      ]
    },
    {
      "cell_type": "markdown",
      "metadata": {
        "id": "e6Rfrai6liB_"
      },
      "source": [
        "**Splitting Data**\n",
        "we have to first separate the columns into dependent and independent variables(or features and label). Then we will split those variables into train and test set."
      ]
    },
    {
      "cell_type": "code",
      "metadata": {
        "id": "yHqkXuehlj6P"
      },
      "source": [
        "# Import train_test_split function\n",
        "from sklearn.model_selection import train_test_split\n",
        "\n",
        "# Split dataset into training set and test set\n",
        "X_train, X_test, y_train, y_test = train_test_split(Independentvariables, PriceRange_encoded, test_size=0.3,random_state=109) # 70% training and 30% test"
      ],
      "execution_count": 14,
      "outputs": []
    },
    {
      "cell_type": "markdown",
      "metadata": {
        "id": "7v4ka2ikmQ7R"
      },
      "source": [
        "**Model Generation**\n",
        "After splitting, we are going to generate a random forest model on the training set and perform prediction on test set features."
      ]
    },
    {
      "cell_type": "code",
      "metadata": {
        "id": "l0U7BGCbmTkm"
      },
      "source": [
        "#Import Gaussian Naive Bayes model\n",
        "from sklearn.naive_bayes import GaussianNB\n",
        "\n",
        "#Create a Gaussian Classifier\n",
        "gnb = GaussianNB()\n",
        "\n",
        "#Train the model using the training sets\n",
        "gnb.fit(X_train, y_train)\n",
        "\n",
        "#Predict the response for test dataset\n",
        "y_pred = gnb.predict(X_test)"
      ],
      "execution_count": 15,
      "outputs": []
    },
    {
      "cell_type": "markdown",
      "metadata": {
        "id": "CRoyYFb0mbsE"
      },
      "source": [
        "**Evaluating Model**\n",
        "After model generation, check the accuracy using actual and predicted values."
      ]
    },
    {
      "cell_type": "code",
      "metadata": {
        "id": "wLPgZPJHmdbk",
        "colab": {
          "base_uri": "https://localhost:8080/"
        },
        "outputId": "b1532f6c-0648-4b62-a391-9475e60e7125"
      },
      "source": [
        "#Import scikit-learn metrics module for accuracy calculation\n",
        "from sklearn import metrics\n",
        "\n",
        "# Model Accuracy, how often is the classifier correct?\n",
        "print(\"Accuracy:\",metrics.accuracy_score(y_test, y_pred))"
      ],
      "execution_count": 16,
      "outputs": [
        {
          "output_type": "stream",
          "name": "stdout",
          "text": [
            "Accuracy: 0.419925512104283\n"
          ]
        }
      ]
    }
  ]
}